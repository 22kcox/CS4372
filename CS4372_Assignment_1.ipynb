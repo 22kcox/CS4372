{
  "nbformat": 4,
  "nbformat_minor": 0,
  "metadata": {
    "colab": {
      "provenance": []
    },
    "kernelspec": {
      "name": "python3",
      "display_name": "Python 3"
    },
    "language_info": {
      "name": "python"
    }
  },
  "cells": [
    {
      "cell_type": "code",
      "execution_count": null,
      "metadata": {
        "id": "hXcYiuEYXeEr"
      },
      "outputs": [],
      "source": [
        "#Libraries\n",
        "import numpy as np\n",
        "import matplotlib.pyplot as plt \n",
        "import pandas as pd  \n",
        "import seaborn as sns \n",
        "from sklearn.metrics import r2_score"
      ]
    }
  ]
}